{
 "cells": [
  {
   "cell_type": "code",
   "execution_count": 1,
   "metadata": {
    "_cell_guid": "b1076dfc-b9ad-4769-8c92-a6c4dae69d19",
    "_uuid": "8f2839f25d086af736a60e9eeb907d3b93b6e0e5",
    "execution": {
     "iopub.execute_input": "2021-02-16T06:45:33.037836Z",
     "iopub.status.busy": "2021-02-16T06:45:33.037122Z",
     "iopub.status.idle": "2021-02-16T06:45:33.049544Z",
     "shell.execute_reply": "2021-02-16T06:45:33.048960Z"
    },
    "papermill": {
     "duration": 0.032386,
     "end_time": "2021-02-16T06:45:33.049758",
     "exception": false,
     "start_time": "2021-02-16T06:45:33.017372",
     "status": "completed"
    },
    "tags": []
   },
   "outputs": [
    {
     "name": "stdout",
     "output_type": "stream",
     "text": [
      "/kaggle/input/uttarakhand-tweets/Uttarakhand.csv\n"
     ]
    }
   ],
   "source": [
    "# This Python 3 environment comes with many helpful analytics libraries installed\n",
    "# It is defined by the kaggle/python Docker image: https://github.com/kaggle/docker-python\n",
    "# For example, here's several helpful packages to load\n",
    "\n",
    "import numpy as np # linear algebra\n",
    "import pandas as pd # data processing, CSV file I/O (e.g. pd.read_csv)\n",
    "\n",
    "# Input data files are available in the read-only \"../input/\" directory\n",
    "# For example, running this (by clicking run or pressing Shift+Enter) will list all files under the input directory\n",
    "\n",
    "import os\n",
    "for dirname, _, filenames in os.walk('/kaggle/input'):\n",
    "    for filename in filenames:\n",
    "        print(os.path.join(dirname, filename))\n",
    "\n",
    "# You can write up to 20GB to the current directory (/kaggle/working/) that gets preserved as output when you create a version using \"Save & Run All\" \n",
    "# You can also write temporary files to /kaggle/temp/, but they won't be saved outside of the current session"
   ]
  },
  {
   "cell_type": "code",
   "execution_count": 2,
   "metadata": {
    "execution": {
     "iopub.execute_input": "2021-02-16T06:45:33.082020Z",
     "iopub.status.busy": "2021-02-16T06:45:33.081198Z",
     "iopub.status.idle": "2021-02-16T06:45:38.921330Z",
     "shell.execute_reply": "2021-02-16T06:45:38.919808Z"
    },
    "papermill": {
     "duration": 5.85806,
     "end_time": "2021-02-16T06:45:38.921491",
     "exception": false,
     "start_time": "2021-02-16T06:45:33.063431",
     "status": "completed"
    },
    "tags": []
   },
   "outputs": [],
   "source": [
    "import torch\n",
    "import torch.nn as nn\n",
    "from torch.utils.data import Dataset\n",
    "import numpy as np\n",
    "import pandas as pd\n",
    "import spacy\n",
    "nlp =spacy.load('en_core_web_sm')\n",
    "\n",
    "\n",
    "df = pd.read_csv(\"/kaggle/input/uttarakhand-tweets/Uttarakhand.csv\")\n"
   ]
  },
  {
   "cell_type": "code",
   "execution_count": 3,
   "metadata": {
    "execution": {
     "iopub.execute_input": "2021-02-16T06:45:38.953711Z",
     "iopub.status.busy": "2021-02-16T06:45:38.951900Z",
     "iopub.status.idle": "2021-02-16T06:45:38.954363Z",
     "shell.execute_reply": "2021-02-16T06:45:38.954833Z"
    },
    "papermill": {
     "duration": 0.020633,
     "end_time": "2021-02-16T06:45:38.955025",
     "exception": false,
     "start_time": "2021-02-16T06:45:38.934392",
     "status": "completed"
    },
    "tags": []
   },
   "outputs": [],
   "source": [
    "questions = [\n",
    "    'What is the Emergency helpline number?',\n",
    "    'What happened in Uttarakhand?',\n",
    "    'How many people are killed?',\n",
    "    'Which tunnel completely blocked due to debris?'\n",
    "]"
   ]
  },
  {
   "cell_type": "code",
   "execution_count": 4,
   "metadata": {
    "execution": {
     "iopub.execute_input": "2021-02-16T06:45:38.997636Z",
     "iopub.status.busy": "2021-02-16T06:45:38.996907Z",
     "iopub.status.idle": "2021-02-16T06:45:39.005971Z",
     "shell.execute_reply": "2021-02-16T06:45:39.006484Z"
    },
    "papermill": {
     "duration": 0.038136,
     "end_time": "2021-02-16T06:45:39.006658",
     "exception": false,
     "start_time": "2021-02-16T06:45:38.968522",
     "status": "completed"
    },
    "tags": []
   },
   "outputs": [
    {
     "data": {
      "text/html": [
       "<div>\n",
       "<style scoped>\n",
       "    .dataframe tbody tr th:only-of-type {\n",
       "        vertical-align: middle;\n",
       "    }\n",
       "\n",
       "    .dataframe tbody tr th {\n",
       "        vertical-align: top;\n",
       "    }\n",
       "\n",
       "    .dataframe thead th {\n",
       "        text-align: right;\n",
       "    }\n",
       "</style>\n",
       "<table border=\"1\" class=\"dataframe\">\n",
       "  <thead>\n",
       "    <tr style=\"text-align: right;\">\n",
       "      <th></th>\n",
       "      <th>tweet</th>\n",
       "    </tr>\n",
       "  </thead>\n",
       "  <tbody>\n",
       "    <tr>\n",
       "      <th>0</th>\n",
       "      <td>Horrible news out of #Uttarakhand</td>\n",
       "    </tr>\n",
       "    <tr>\n",
       "      <th>1</th>\n",
       "      <td>Prayer for #Uttarakhand 🙏🙏</td>\n",
       "    </tr>\n",
       "    <tr>\n",
       "      <th>2</th>\n",
       "      <td>Ohhh God Please Save #Uttarakhand</td>\n",
       "    </tr>\n",
       "    <tr>\n",
       "      <th>3</th>\n",
       "      <td>Extremely Sad To Hear About The #Uttarakhand G...</td>\n",
       "    </tr>\n",
       "    <tr>\n",
       "      <th>4</th>\n",
       "      <td>Prayers for #Uttarakhand 🙏🙏</td>\n",
       "    </tr>\n",
       "    <tr>\n",
       "      <th>...</th>\n",
       "      <td>...</td>\n",
       "    </tr>\n",
       "    <tr>\n",
       "      <th>8141</th>\n",
       "      <td>😊\\n\\nHope everyone is fine, Prayers 🙏\\n#Uttara...</td>\n",
       "    </tr>\n",
       "    <tr>\n",
       "      <th>8142</th>\n",
       "      <td>What a responsible PM would do in this Situati...</td>\n",
       "    </tr>\n",
       "    <tr>\n",
       "      <th>8143</th>\n",
       "      <td>Scary scenes coming from #Uttarakhand \\n\\nPray...</td>\n",
       "    </tr>\n",
       "    <tr>\n",
       "      <th>8144</th>\n",
       "      <td>ITBP jawans in search and rescue operation in ...</td>\n",
       "    </tr>\n",
       "    <tr>\n",
       "      <th>8145</th>\n",
       "      <td>Sorry guys, I will not be able to tweet today,...</td>\n",
       "    </tr>\n",
       "  </tbody>\n",
       "</table>\n",
       "<p>8146 rows × 1 columns</p>\n",
       "</div>"
      ],
      "text/plain": [
       "                                                  tweet\n",
       "0                     Horrible news out of #Uttarakhand\n",
       "1                            Prayer for #Uttarakhand 🙏🙏\n",
       "2                     Ohhh God Please Save #Uttarakhand\n",
       "3     Extremely Sad To Hear About The #Uttarakhand G...\n",
       "4                           Prayers for #Uttarakhand 🙏🙏\n",
       "...                                                 ...\n",
       "8141  😊\\n\\nHope everyone is fine, Prayers 🙏\\n#Uttara...\n",
       "8142  What a responsible PM would do in this Situati...\n",
       "8143  Scary scenes coming from #Uttarakhand \\n\\nPray...\n",
       "8144  ITBP jawans in search and rescue operation in ...\n",
       "8145  Sorry guys, I will not be able to tweet today,...\n",
       "\n",
       "[8146 rows x 1 columns]"
      ]
     },
     "execution_count": 4,
     "metadata": {},
     "output_type": "execute_result"
    }
   ],
   "source": [
    "df"
   ]
  },
  {
   "cell_type": "code",
   "execution_count": 5,
   "metadata": {
    "execution": {
     "iopub.execute_input": "2021-02-16T06:45:39.041339Z",
     "iopub.status.busy": "2021-02-16T06:45:39.040569Z",
     "iopub.status.idle": "2021-02-16T06:45:39.055577Z",
     "shell.execute_reply": "2021-02-16T06:45:39.055082Z"
    },
    "papermill": {
     "duration": 0.035691,
     "end_time": "2021-02-16T06:45:39.055721",
     "exception": false,
     "start_time": "2021-02-16T06:45:39.020030",
     "status": "completed"
    },
    "tags": []
   },
   "outputs": [
    {
     "data": {
      "text/html": [
       "<div>\n",
       "<style scoped>\n",
       "    .dataframe tbody tr th:only-of-type {\n",
       "        vertical-align: middle;\n",
       "    }\n",
       "\n",
       "    .dataframe tbody tr th {\n",
       "        vertical-align: top;\n",
       "    }\n",
       "\n",
       "    .dataframe thead th {\n",
       "        text-align: right;\n",
       "    }\n",
       "</style>\n",
       "<table border=\"1\" class=\"dataframe\">\n",
       "  <thead>\n",
       "    <tr style=\"text-align: right;\">\n",
       "      <th></th>\n",
       "      <th>tweet</th>\n",
       "    </tr>\n",
       "  </thead>\n",
       "  <tbody>\n",
       "    <tr>\n",
       "      <th>0</th>\n",
       "      <td>Horrible news out of #Uttarakhand</td>\n",
       "    </tr>\n",
       "    <tr>\n",
       "      <th>1</th>\n",
       "      <td>Prayer for #Uttarakhand 🙏🙏</td>\n",
       "    </tr>\n",
       "    <tr>\n",
       "      <th>2</th>\n",
       "      <td>Ohhh God Please Save #Uttarakhand</td>\n",
       "    </tr>\n",
       "    <tr>\n",
       "      <th>3</th>\n",
       "      <td>Extremely Sad To Hear About The #Uttarakhand G...</td>\n",
       "    </tr>\n",
       "    <tr>\n",
       "      <th>4</th>\n",
       "      <td>Prayers for #Uttarakhand 🙏🙏</td>\n",
       "    </tr>\n",
       "    <tr>\n",
       "      <th>...</th>\n",
       "      <td>...</td>\n",
       "    </tr>\n",
       "    <tr>\n",
       "      <th>7494</th>\n",
       "      <td>May the God force be with you #Uttarakhand</td>\n",
       "    </tr>\n",
       "    <tr>\n",
       "      <th>7495</th>\n",
       "      <td>😊\\n\\nHope everyone is fine, Prayers 🙏\\n#Uttara...</td>\n",
       "    </tr>\n",
       "    <tr>\n",
       "      <th>7496</th>\n",
       "      <td>What a responsible PM would do in this Situati...</td>\n",
       "    </tr>\n",
       "    <tr>\n",
       "      <th>7497</th>\n",
       "      <td>ITBP jawans in search and rescue operation in ...</td>\n",
       "    </tr>\n",
       "    <tr>\n",
       "      <th>7498</th>\n",
       "      <td>Sorry guys, I will not be able to tweet today,...</td>\n",
       "    </tr>\n",
       "  </tbody>\n",
       "</table>\n",
       "<p>7499 rows × 1 columns</p>\n",
       "</div>"
      ],
      "text/plain": [
       "                                                  tweet\n",
       "0                     Horrible news out of #Uttarakhand\n",
       "1                            Prayer for #Uttarakhand 🙏🙏\n",
       "2                     Ohhh God Please Save #Uttarakhand\n",
       "3     Extremely Sad To Hear About The #Uttarakhand G...\n",
       "4                           Prayers for #Uttarakhand 🙏🙏\n",
       "...                                                 ...\n",
       "7494         May the God force be with you #Uttarakhand\n",
       "7495  😊\\n\\nHope everyone is fine, Prayers 🙏\\n#Uttara...\n",
       "7496  What a responsible PM would do in this Situati...\n",
       "7497  ITBP jawans in search and rescue operation in ...\n",
       "7498  Sorry guys, I will not be able to tweet today,...\n",
       "\n",
       "[7499 rows x 1 columns]"
      ]
     },
     "execution_count": 5,
     "metadata": {},
     "output_type": "execute_result"
    }
   ],
   "source": [
    "df = df.drop_duplicates().reset_index(drop = True)\n",
    "df"
   ]
  },
  {
   "cell_type": "code",
   "execution_count": 6,
   "metadata": {
    "execution": {
     "iopub.execute_input": "2021-02-16T06:45:39.090254Z",
     "iopub.status.busy": "2021-02-16T06:45:39.089055Z",
     "iopub.status.idle": "2021-02-16T06:45:39.092880Z",
     "shell.execute_reply": "2021-02-16T06:45:39.093388Z"
    },
    "papermill": {
     "duration": 0.023309,
     "end_time": "2021-02-16T06:45:39.093523",
     "exception": false,
     "start_time": "2021-02-16T06:45:39.070214",
     "status": "completed"
    },
    "tags": []
   },
   "outputs": [
    {
     "data": {
      "text/plain": [
       "'Horrible news out of #Uttarakhand'"
      ]
     },
     "execution_count": 6,
     "metadata": {},
     "output_type": "execute_result"
    }
   ],
   "source": [
    "df['tweet'][0]"
   ]
  },
  {
   "cell_type": "code",
   "execution_count": 7,
   "metadata": {
    "execution": {
     "iopub.execute_input": "2021-02-16T06:45:39.126456Z",
     "iopub.status.busy": "2021-02-16T06:45:39.125874Z",
     "iopub.status.idle": "2021-02-16T06:45:39.130862Z",
     "shell.execute_reply": "2021-02-16T06:45:39.131324Z"
    },
    "papermill": {
     "duration": 0.023907,
     "end_time": "2021-02-16T06:45:39.131465",
     "exception": false,
     "start_time": "2021-02-16T06:45:39.107558",
     "status": "completed"
    },
    "tags": []
   },
   "outputs": [
    {
     "data": {
      "text/plain": [
       "'Horrible news out of #UttarakhandPrayer for #Uttarakhand 🙏🙏Ohhh God Please Save #UttarakhandExtremely Sad To Hear About The #Uttarakhand Glacier Break, Praying For The Safety Of Missing People... 🙏\\n\\nHelpline… https://t.co/a8HXQ6Y3HbPrayers for #Uttarakhand 🙏🙏Prayer for #Uttarakhand.\\n🙏🙏ALERT 🚨 #Uttarakhand \\n\\nEmergency 🆘 numbers 1070  9557444486 \\n\\nPlease follow all official advisories.\\n\\n#Uttarakhand #ChamoliHeavy Devastation Due To Glacier breakage in Chamoli, Uttrakhand.Very sad news...Geographical issues of our country… https://t.co/hFmkb6D9bX'"
      ]
     },
     "execution_count": 7,
     "metadata": {},
     "output_type": "execute_result"
    }
   ],
   "source": [
    "context = ''\n",
    "for i in range(8):\n",
    "    for text in df['tweet'][i]:\n",
    "        context += text\n",
    "context"
   ]
  },
  {
   "cell_type": "code",
   "execution_count": 8,
   "metadata": {
    "execution": {
     "iopub.execute_input": "2021-02-16T06:45:39.167130Z",
     "iopub.status.busy": "2021-02-16T06:45:39.166145Z",
     "iopub.status.idle": "2021-02-16T06:45:39.170236Z",
     "shell.execute_reply": "2021-02-16T06:45:39.169726Z"
    },
    "papermill": {
     "duration": 0.024073,
     "end_time": "2021-02-16T06:45:39.170357",
     "exception": false,
     "start_time": "2021-02-16T06:45:39.146284",
     "status": "completed"
    },
    "tags": []
   },
   "outputs": [
    {
     "data": {
      "text/plain": [
       "\"ITBP personnel digging to open Tapovan Tunnel which is completely blocked due to debris. Many reported to be trappe… https://t.co/Ta3b2cDY9e#UttarakhandDisaster #Uttarakhand praying 🙏 for everyone's safety.Thoughts &amp; Prayers for Uttarakhand!\\n#UttarakhandALERT 🚨 #Uttarakhand \\n\\nEmergency 🆘 numbers 1070  9557444486 \\n\\nPlease follow all official advisories.\\n\\n#UttarakhandPraying for safety of all #UttarakhandAbout 100 to 150 people are feared to be killed in the #flashflood in #Uttarakhand #Chamoli district, news agency A… https://t.co/nScJsRSK5FFlash floods in #Uttarakhand:\\nFour Army columns, Two Medical teams,  one Engineering Task Force deployed at #Ringi… https://t.co/Gp6ZnIhU4BDistressed by the tragic disaster that unfolded in Uttarakhand. Praying for everyone’s safety. Hope those stranded… https://t.co/LL8Jz1nO0d#Uttarakhand Distressing to hear about the glacier breaking off in #Uttarakhand Praying everyone’s safety there 🙏we all are with u #Uttarakhand\""
      ]
     },
     "execution_count": 8,
     "metadata": {},
     "output_type": "execute_result"
    }
   ],
   "source": [
    "context1 = ''\n",
    "for i in range(75,85):\n",
    "    for text in df['tweet'][i]:\n",
    "        context1 += text\n",
    "context1"
   ]
  },
  {
   "cell_type": "code",
   "execution_count": 9,
   "metadata": {
    "execution": {
     "iopub.execute_input": "2021-02-16T06:45:39.207296Z",
     "iopub.status.busy": "2021-02-16T06:45:39.206446Z",
     "iopub.status.idle": "2021-02-16T06:45:39.209509Z",
     "shell.execute_reply": "2021-02-16T06:45:39.208981Z"
    },
    "papermill": {
     "duration": 0.023871,
     "end_time": "2021-02-16T06:45:39.209666",
     "exception": false,
     "start_time": "2021-02-16T06:45:39.185795",
     "status": "completed"
    },
    "tags": []
   },
   "outputs": [],
   "source": [
    "import re\n",
    "def deEmojify(text):\n",
    "    regrex_pattern = re.compile(pattern = \"[\"\n",
    "        u\"\\U0001F600-\\U0001F64F\"  # emoticons\n",
    "        u\"\\U0001F300-\\U0001F5FF\"  # symbols & pictographs\n",
    "        u\"\\U0001F680-\\U0001F6FF\"  # transport & map symbols\n",
    "        u\"\\U0001F1E0-\\U0001F1FF\"  # flags (iOS)\n",
    "                           \"]+\", flags = re.UNICODE)\n",
    "    return regrex_pattern.sub(r'',text)\n",
    "final_context = deEmojify(context)"
   ]
  },
  {
   "cell_type": "code",
   "execution_count": 10,
   "metadata": {
    "execution": {
     "iopub.execute_input": "2021-02-16T06:45:39.245958Z",
     "iopub.status.busy": "2021-02-16T06:45:39.244997Z",
     "iopub.status.idle": "2021-02-16T06:45:39.249193Z",
     "shell.execute_reply": "2021-02-16T06:45:39.248658Z"
    },
    "papermill": {
     "duration": 0.023928,
     "end_time": "2021-02-16T06:45:39.249317",
     "exception": false,
     "start_time": "2021-02-16T06:45:39.225389",
     "status": "completed"
    },
    "tags": []
   },
   "outputs": [
    {
     "data": {
      "text/plain": [
       "'Horrible news out of #UttarakhandPrayer for #Uttarakhand Ohhh God Please Save #UttarakhandExtremely Sad To Hear About The #Uttarakhand Glacier Break, Praying For The Safety Of Missing People... \\n\\nHelpline… https://t.co/a8HXQ6Y3HbPrayers for #Uttarakhand Prayer for #Uttarakhand.\\nALERT  #Uttarakhand \\n\\nEmergency 🆘 numbers 1070  9557444486 \\n\\nPlease follow all official advisories.\\n\\n#Uttarakhand #ChamoliHeavy Devastation Due To Glacier breakage in Chamoli, Uttrakhand.Very sad news...Geographical issues of our country… https://t.co/hFmkb6D9bX'"
      ]
     },
     "execution_count": 10,
     "metadata": {},
     "output_type": "execute_result"
    }
   ],
   "source": [
    "final_context"
   ]
  },
  {
   "cell_type": "code",
   "execution_count": 11,
   "metadata": {
    "execution": {
     "iopub.execute_input": "2021-02-16T06:45:39.286731Z",
     "iopub.status.busy": "2021-02-16T06:45:39.286080Z",
     "iopub.status.idle": "2021-02-16T06:45:44.589680Z",
     "shell.execute_reply": "2021-02-16T06:45:44.588493Z"
    },
    "papermill": {
     "duration": 5.322926,
     "end_time": "2021-02-16T06:45:44.589831",
     "exception": false,
     "start_time": "2021-02-16T06:45:39.266905",
     "status": "completed"
    },
    "tags": []
   },
   "outputs": [],
   "source": [
    "from transformers import BertTokenizer, TFBertForQuestionAnswering\n",
    "from transformers import BertTokenizer, BertModel, BertForMaskedLM"
   ]
  },
  {
   "cell_type": "code",
   "execution_count": 12,
   "metadata": {
    "execution": {
     "iopub.execute_input": "2021-02-16T06:45:44.634664Z",
     "iopub.status.busy": "2021-02-16T06:45:44.633796Z",
     "iopub.status.idle": "2021-02-16T06:46:36.408670Z",
     "shell.execute_reply": "2021-02-16T06:46:36.407995Z"
    },
    "papermill": {
     "duration": 51.801668,
     "end_time": "2021-02-16T06:46:36.408838",
     "exception": false,
     "start_time": "2021-02-16T06:45:44.607170",
     "status": "completed"
    },
    "tags": []
   },
   "outputs": [
    {
     "data": {
      "application/vnd.jupyter.widget-view+json": {
       "model_id": "8d7e9e2da2494976a28111812b19bfb2",
       "version_major": 2,
       "version_minor": 0
      },
      "text/plain": [
       "Downloading:   0%|          | 0.00/443 [00:00<?, ?B/s]"
      ]
     },
     "metadata": {},
     "output_type": "display_data"
    },
    {
     "data": {
      "application/vnd.jupyter.widget-view+json": {
       "model_id": "c821404af9504e1e92b551f0a211dc4a",
       "version_major": 2,
       "version_minor": 0
      },
      "text/plain": [
       "Downloading:   0%|          | 0.00/1.34G [00:00<?, ?B/s]"
      ]
     },
     "metadata": {},
     "output_type": "display_data"
    },
    {
     "data": {
      "application/vnd.jupyter.widget-view+json": {
       "model_id": "d731301b5c344d4fb41ca8dce835c992",
       "version_major": 2,
       "version_minor": 0
      },
      "text/plain": [
       "Downloading:   0%|          | 0.00/232k [00:00<?, ?B/s]"
      ]
     },
     "metadata": {},
     "output_type": "display_data"
    }
   ],
   "source": [
    "from transformers import BertForQuestionAnswering\n",
    "\n",
    "model = BertForQuestionAnswering.from_pretrained('bert-large-uncased-whole-word-masking-finetuned-squad')\n",
    "from transformers import BertTokenizer\n",
    "\n",
    "tokenizer = BertTokenizer.from_pretrained('bert-large-uncased-whole-word-masking-finetuned-squad')"
   ]
  },
  {
   "cell_type": "code",
   "execution_count": 13,
   "metadata": {
    "execution": {
     "iopub.execute_input": "2021-02-16T06:46:36.456787Z",
     "iopub.status.busy": "2021-02-16T06:46:36.455992Z",
     "iopub.status.idle": "2021-02-16T06:46:36.459154Z",
     "shell.execute_reply": "2021-02-16T06:46:36.458645Z"
    },
    "papermill": {
     "duration": 0.030586,
     "end_time": "2021-02-16T06:46:36.459284",
     "exception": false,
     "start_time": "2021-02-16T06:46:36.428698",
     "status": "completed"
    },
    "tags": []
   },
   "outputs": [],
   "source": [
    "def answer_question(question, answer_text):\n",
    "\n",
    "    input_ids = tokenizer.encode(question, answer_text)\n",
    "    print('Query has {:,} tokens.\\n'.format(len(input_ids)))\n",
    "    sep_index = input_ids.index(tokenizer.sep_token_id)\n",
    "    num_seg_a = sep_index + 1\n",
    "    num_seg_b = len(input_ids) - num_seg_a\n",
    "    segment_ids = [0]*num_seg_a + [1]*num_seg_b\n",
    "    assert len(segment_ids) == len(input_ids)\n",
    "\n",
    "    outputs = model(torch.tensor([input_ids]), \n",
    "                    token_type_ids=torch.tensor([segment_ids]),\n",
    "                    return_dict=True) \n",
    "\n",
    "    start_scores = outputs.start_logits\n",
    "    end_scores = outputs.end_logits\n",
    "\n",
    "\n",
    "    answer_start = torch.argmax(start_scores)\n",
    "    answer_end = torch.argmax(end_scores)\n",
    "\n",
    "\n",
    "    tokens = tokenizer.convert_ids_to_tokens(input_ids)\n",
    "\n",
    "    answer = tokens[answer_start]\n",
    "\n",
    "\n",
    "    for i in range(answer_start + 1, answer_end + 1):\n",
    "        \n",
    "\n",
    "        if tokens[i][0:2] == '##':\n",
    "            answer += tokens[i][2:]\n",
    "        \n",
    "\n",
    "        else:\n",
    "            answer += ' ' + tokens[i]\n",
    "\n",
    "    print('Answer: \"' + answer + '\"')"
   ]
  },
  {
   "cell_type": "code",
   "execution_count": 14,
   "metadata": {
    "execution": {
     "iopub.execute_input": "2021-02-16T06:46:36.506730Z",
     "iopub.status.busy": "2021-02-16T06:46:36.505941Z",
     "iopub.status.idle": "2021-02-16T06:46:38.167626Z",
     "shell.execute_reply": "2021-02-16T06:46:38.168301Z"
    },
    "papermill": {
     "duration": 1.691214,
     "end_time": "2021-02-16T06:46:38.168536",
     "exception": false,
     "start_time": "2021-02-16T06:46:36.477322",
     "status": "completed"
    },
    "tags": []
   },
   "outputs": [
    {
     "name": "stdout",
     "output_type": "stream",
     "text": [
      "What is the Emergency helpline number?\n",
      "Query has 174 tokens.\n",
      "\n",
      "Answer: \"1070 9557444486\"\n",
      "None\n"
     ]
    }
   ],
   "source": [
    "print(questions[0])\n",
    "print(answer_question(questions[0], final_context))"
   ]
  },
  {
   "cell_type": "code",
   "execution_count": 15,
   "metadata": {
    "execution": {
     "iopub.execute_input": "2021-02-16T06:46:38.217877Z",
     "iopub.status.busy": "2021-02-16T06:46:38.216549Z",
     "iopub.status.idle": "2021-02-16T06:46:39.518681Z",
     "shell.execute_reply": "2021-02-16T06:46:39.517984Z"
    },
    "papermill": {
     "duration": 1.330199,
     "end_time": "2021-02-16T06:46:39.518869",
     "exception": false,
     "start_time": "2021-02-16T06:46:38.188670",
     "status": "completed"
    },
    "tags": []
   },
   "outputs": [
    {
     "name": "stdout",
     "output_type": "stream",
     "text": [
      "What happened in Uttarakhand?\n",
      "Query has 173 tokens.\n",
      "\n",
      "Answer: \"glacier break\"\n",
      "None\n"
     ]
    }
   ],
   "source": [
    "print(questions[1])\n",
    "print(answer_question(questions[1], final_context))"
   ]
  },
  {
   "cell_type": "code",
   "execution_count": 16,
   "metadata": {
    "execution": {
     "iopub.execute_input": "2021-02-16T06:46:39.571544Z",
     "iopub.status.busy": "2021-02-16T06:46:39.567266Z",
     "iopub.status.idle": "2021-02-16T06:46:41.760993Z",
     "shell.execute_reply": "2021-02-16T06:46:41.761718Z"
    },
    "papermill": {
     "duration": 2.222897,
     "end_time": "2021-02-16T06:46:41.761927",
     "exception": false,
     "start_time": "2021-02-16T06:46:39.539030",
     "status": "completed"
    },
    "tags": []
   },
   "outputs": [
    {
     "name": "stdout",
     "output_type": "stream",
     "text": [
      "How many people are killed?\n",
      "Query has 283 tokens.\n",
      "\n",
      "Answer: \"100 to 150\"\n",
      "None\n"
     ]
    }
   ],
   "source": [
    "print(questions[2])\n",
    "print(answer_question(questions[2], context1))"
   ]
  },
  {
   "cell_type": "code",
   "execution_count": 17,
   "metadata": {
    "execution": {
     "iopub.execute_input": "2021-02-16T06:46:41.818188Z",
     "iopub.status.busy": "2021-02-16T06:46:41.814435Z",
     "iopub.status.idle": "2021-02-16T06:46:44.238903Z",
     "shell.execute_reply": "2021-02-16T06:46:44.239879Z"
    },
    "papermill": {
     "duration": 2.456208,
     "end_time": "2021-02-16T06:46:44.240083",
     "exception": false,
     "start_time": "2021-02-16T06:46:41.783875",
     "status": "completed"
    },
    "tags": []
   },
   "outputs": [
    {
     "name": "stdout",
     "output_type": "stream",
     "text": [
      "Which tunnel completely blocked due to debris?\n",
      "Query has 285 tokens.\n",
      "\n",
      "Answer: \"tapovan tunnel\"\n",
      "None\n"
     ]
    }
   ],
   "source": [
    "print(questions[3])\n",
    "print(answer_question(questions[3], context1))"
   ]
  },
  {
   "cell_type": "code",
   "execution_count": null,
   "metadata": {
    "papermill": {
     "duration": 0.026603,
     "end_time": "2021-02-16T06:46:44.294569",
     "exception": false,
     "start_time": "2021-02-16T06:46:44.267966",
     "status": "completed"
    },
    "tags": []
   },
   "outputs": [],
   "source": []
  }
 ],
 "metadata": {
  "kernelspec": {
   "display_name": "Python 3",
   "language": "python",
   "name": "python3"
  },
  "language_info": {
   "codemirror_mode": {
    "name": "ipython",
    "version": 3
   },
   "file_extension": ".py",
   "mimetype": "text/x-python",
   "name": "python",
   "nbconvert_exporter": "python",
   "pygments_lexer": "ipython3",
   "version": "3.7.9"
  },
  "papermill": {
   "default_parameters": {},
   "duration": 78.437159,
   "end_time": "2021-02-16T06:46:45.938885",
   "environment_variables": {},
   "exception": null,
   "input_path": "__notebook__.ipynb",
   "output_path": "__notebook__.ipynb",
   "parameters": {},
   "start_time": "2021-02-16T06:45:27.501726",
   "version": "2.2.2"
  },
  "widgets": {
   "application/vnd.jupyter.widget-state+json": {
    "state": {
     "0161ae6f254d4f78adf0020b3aca05ee": {
      "model_module": "@jupyter-widgets/base",
      "model_module_version": "1.2.0",
      "model_name": "LayoutModel",
      "state": {
       "_model_module": "@jupyter-widgets/base",
       "_model_module_version": "1.2.0",
       "_model_name": "LayoutModel",
       "_view_count": null,
       "_view_module": "@jupyter-widgets/base",
       "_view_module_version": "1.2.0",
       "_view_name": "LayoutView",
       "align_content": null,
       "align_items": null,
       "align_self": null,
       "border": null,
       "bottom": null,
       "display": null,
       "flex": null,
       "flex_flow": null,
       "grid_area": null,
       "grid_auto_columns": null,
       "grid_auto_flow": null,
       "grid_auto_rows": null,
       "grid_column": null,
       "grid_gap": null,
       "grid_row": null,
       "grid_template_areas": null,
       "grid_template_columns": null,
       "grid_template_rows": null,
       "height": null,
       "justify_content": null,
       "justify_items": null,
       "left": null,
       "margin": null,
       "max_height": null,
       "max_width": null,
       "min_height": null,
       "min_width": null,
       "object_fit": null,
       "object_position": null,
       "order": null,
       "overflow": null,
       "overflow_x": null,
       "overflow_y": null,
       "padding": null,
       "right": null,
       "top": null,
       "visibility": null,
       "width": null
      }
     },
     "03e0b50077604239ab09b7ab0cbf01d0": {
      "model_module": "@jupyter-widgets/controls",
      "model_module_version": "1.5.0",
      "model_name": "FloatProgressModel",
      "state": {
       "_dom_classes": [],
       "_model_module": "@jupyter-widgets/controls",
       "_model_module_version": "1.5.0",
       "_model_name": "FloatProgressModel",
       "_view_count": null,
       "_view_module": "@jupyter-widgets/controls",
       "_view_module_version": "1.5.0",
       "_view_name": "ProgressView",
       "bar_style": "success",
       "description": "",
       "description_tooltip": null,
       "layout": "IPY_MODEL_e9713cdf2a07462191b4e6bf89f6fcd2",
       "max": 1340675298.0,
       "min": 0.0,
       "orientation": "horizontal",
       "style": "IPY_MODEL_ead342c373564a66b2fb4865feebe1ed",
       "value": 1340675298.0
      }
     },
     "06abbc8072fa4500a10ba95c91570684": {
      "model_module": "@jupyter-widgets/base",
      "model_module_version": "1.2.0",
      "model_name": "LayoutModel",
      "state": {
       "_model_module": "@jupyter-widgets/base",
       "_model_module_version": "1.2.0",
       "_model_name": "LayoutModel",
       "_view_count": null,
       "_view_module": "@jupyter-widgets/base",
       "_view_module_version": "1.2.0",
       "_view_name": "LayoutView",
       "align_content": null,
       "align_items": null,
       "align_self": null,
       "border": null,
       "bottom": null,
       "display": null,
       "flex": null,
       "flex_flow": null,
       "grid_area": null,
       "grid_auto_columns": null,
       "grid_auto_flow": null,
       "grid_auto_rows": null,
       "grid_column": null,
       "grid_gap": null,
       "grid_row": null,
       "grid_template_areas": null,
       "grid_template_columns": null,
       "grid_template_rows": null,
       "height": null,
       "justify_content": null,
       "justify_items": null,
       "left": null,
       "margin": null,
       "max_height": null,
       "max_width": null,
       "min_height": null,
       "min_width": null,
       "object_fit": null,
       "object_position": null,
       "order": null,
       "overflow": null,
       "overflow_x": null,
       "overflow_y": null,
       "padding": null,
       "right": null,
       "top": null,
       "visibility": null,
       "width": null
      }
     },
     "0937f738da394507bf6ea0b19d4b2b9d": {
      "model_module": "@jupyter-widgets/controls",
      "model_module_version": "1.5.0",
      "model_name": "HTMLModel",
      "state": {
       "_dom_classes": [],
       "_model_module": "@jupyter-widgets/controls",
       "_model_module_version": "1.5.0",
       "_model_name": "HTMLModel",
       "_view_count": null,
       "_view_module": "@jupyter-widgets/controls",
       "_view_module_version": "1.5.0",
       "_view_name": "HTMLView",
       "description": "",
       "description_tooltip": null,
       "layout": "IPY_MODEL_8c9bab496fa7400f8949232b4597b008",
       "placeholder": "​",
       "style": "IPY_MODEL_4f507011fd1645289b13dfd480bb90de",
       "value": " 443/443 [00:00&lt;00:00, 13.5kB/s]"
      }
     },
     "0c02bd95a4de460ab091eb4ee971cf5f": {
      "model_module": "@jupyter-widgets/controls",
      "model_module_version": "1.5.0",
      "model_name": "FloatProgressModel",
      "state": {
       "_dom_classes": [],
       "_model_module": "@jupyter-widgets/controls",
       "_model_module_version": "1.5.0",
       "_model_name": "FloatProgressModel",
       "_view_count": null,
       "_view_module": "@jupyter-widgets/controls",
       "_view_module_version": "1.5.0",
       "_view_name": "ProgressView",
       "bar_style": "success",
       "description": "",
       "description_tooltip": null,
       "layout": "IPY_MODEL_777348cb5109499fa443b4b3601cbb13",
       "max": 231508.0,
       "min": 0.0,
       "orientation": "horizontal",
       "style": "IPY_MODEL_fcab3d53d1e049d597bd8733ad0acd25",
       "value": 231508.0
      }
     },
     "29f4e81736074f8e8c6830671c8a2a55": {
      "model_module": "@jupyter-widgets/controls",
      "model_module_version": "1.5.0",
      "model_name": "DescriptionStyleModel",
      "state": {
       "_model_module": "@jupyter-widgets/controls",
       "_model_module_version": "1.5.0",
       "_model_name": "DescriptionStyleModel",
       "_view_count": null,
       "_view_module": "@jupyter-widgets/base",
       "_view_module_version": "1.2.0",
       "_view_name": "StyleView",
       "description_width": ""
      }
     },
     "328937d1ca5e4639a16c821907e9a791": {
      "model_module": "@jupyter-widgets/base",
      "model_module_version": "1.2.0",
      "model_name": "LayoutModel",
      "state": {
       "_model_module": "@jupyter-widgets/base",
       "_model_module_version": "1.2.0",
       "_model_name": "LayoutModel",
       "_view_count": null,
       "_view_module": "@jupyter-widgets/base",
       "_view_module_version": "1.2.0",
       "_view_name": "LayoutView",
       "align_content": null,
       "align_items": null,
       "align_self": null,
       "border": null,
       "bottom": null,
       "display": null,
       "flex": null,
       "flex_flow": null,
       "grid_area": null,
       "grid_auto_columns": null,
       "grid_auto_flow": null,
       "grid_auto_rows": null,
       "grid_column": null,
       "grid_gap": null,
       "grid_row": null,
       "grid_template_areas": null,
       "grid_template_columns": null,
       "grid_template_rows": null,
       "height": null,
       "justify_content": null,
       "justify_items": null,
       "left": null,
       "margin": null,
       "max_height": null,
       "max_width": null,
       "min_height": null,
       "min_width": null,
       "object_fit": null,
       "object_position": null,
       "order": null,
       "overflow": null,
       "overflow_x": null,
       "overflow_y": null,
       "padding": null,
       "right": null,
       "top": null,
       "visibility": null,
       "width": null
      }
     },
     "33bacf9030804bfc93a4342242a4f226": {
      "model_module": "@jupyter-widgets/base",
      "model_module_version": "1.2.0",
      "model_name": "LayoutModel",
      "state": {
       "_model_module": "@jupyter-widgets/base",
       "_model_module_version": "1.2.0",
       "_model_name": "LayoutModel",
       "_view_count": null,
       "_view_module": "@jupyter-widgets/base",
       "_view_module_version": "1.2.0",
       "_view_name": "LayoutView",
       "align_content": null,
       "align_items": null,
       "align_self": null,
       "border": null,
       "bottom": null,
       "display": null,
       "flex": null,
       "flex_flow": null,
       "grid_area": null,
       "grid_auto_columns": null,
       "grid_auto_flow": null,
       "grid_auto_rows": null,
       "grid_column": null,
       "grid_gap": null,
       "grid_row": null,
       "grid_template_areas": null,
       "grid_template_columns": null,
       "grid_template_rows": null,
       "height": null,
       "justify_content": null,
       "justify_items": null,
       "left": null,
       "margin": null,
       "max_height": null,
       "max_width": null,
       "min_height": null,
       "min_width": null,
       "object_fit": null,
       "object_position": null,
       "order": null,
       "overflow": null,
       "overflow_x": null,
       "overflow_y": null,
       "padding": null,
       "right": null,
       "top": null,
       "visibility": null,
       "width": null
      }
     },
     "481133cf38424e82976e1e51093becdf": {
      "model_module": "@jupyter-widgets/base",
      "model_module_version": "1.2.0",
      "model_name": "LayoutModel",
      "state": {
       "_model_module": "@jupyter-widgets/base",
       "_model_module_version": "1.2.0",
       "_model_name": "LayoutModel",
       "_view_count": null,
       "_view_module": "@jupyter-widgets/base",
       "_view_module_version": "1.2.0",
       "_view_name": "LayoutView",
       "align_content": null,
       "align_items": null,
       "align_self": null,
       "border": null,
       "bottom": null,
       "display": null,
       "flex": null,
       "flex_flow": null,
       "grid_area": null,
       "grid_auto_columns": null,
       "grid_auto_flow": null,
       "grid_auto_rows": null,
       "grid_column": null,
       "grid_gap": null,
       "grid_row": null,
       "grid_template_areas": null,
       "grid_template_columns": null,
       "grid_template_rows": null,
       "height": null,
       "justify_content": null,
       "justify_items": null,
       "left": null,
       "margin": null,
       "max_height": null,
       "max_width": null,
       "min_height": null,
       "min_width": null,
       "object_fit": null,
       "object_position": null,
       "order": null,
       "overflow": null,
       "overflow_x": null,
       "overflow_y": null,
       "padding": null,
       "right": null,
       "top": null,
       "visibility": null,
       "width": null
      }
     },
     "4a164ad72fd448b2b3ec2b747c48c75b": {
      "model_module": "@jupyter-widgets/controls",
      "model_module_version": "1.5.0",
      "model_name": "HTMLModel",
      "state": {
       "_dom_classes": [],
       "_model_module": "@jupyter-widgets/controls",
       "_model_module_version": "1.5.0",
       "_model_name": "HTMLModel",
       "_view_count": null,
       "_view_module": "@jupyter-widgets/controls",
       "_view_module_version": "1.5.0",
       "_view_name": "HTMLView",
       "description": "",
       "description_tooltip": null,
       "layout": "IPY_MODEL_af375d230eae42b7a128e815632f6e3e",
       "placeholder": "​",
       "style": "IPY_MODEL_9473231d514643cebbbad6f72d9c3095",
       "value": "Downloading: 100%"
      }
     },
     "4f507011fd1645289b13dfd480bb90de": {
      "model_module": "@jupyter-widgets/controls",
      "model_module_version": "1.5.0",
      "model_name": "DescriptionStyleModel",
      "state": {
       "_model_module": "@jupyter-widgets/controls",
       "_model_module_version": "1.5.0",
       "_model_name": "DescriptionStyleModel",
       "_view_count": null,
       "_view_module": "@jupyter-widgets/base",
       "_view_module_version": "1.2.0",
       "_view_name": "StyleView",
       "description_width": ""
      }
     },
     "502f5eb25471416a810f032bd47da434": {
      "model_module": "@jupyter-widgets/base",
      "model_module_version": "1.2.0",
      "model_name": "LayoutModel",
      "state": {
       "_model_module": "@jupyter-widgets/base",
       "_model_module_version": "1.2.0",
       "_model_name": "LayoutModel",
       "_view_count": null,
       "_view_module": "@jupyter-widgets/base",
       "_view_module_version": "1.2.0",
       "_view_name": "LayoutView",
       "align_content": null,
       "align_items": null,
       "align_self": null,
       "border": null,
       "bottom": null,
       "display": null,
       "flex": null,
       "flex_flow": null,
       "grid_area": null,
       "grid_auto_columns": null,
       "grid_auto_flow": null,
       "grid_auto_rows": null,
       "grid_column": null,
       "grid_gap": null,
       "grid_row": null,
       "grid_template_areas": null,
       "grid_template_columns": null,
       "grid_template_rows": null,
       "height": null,
       "justify_content": null,
       "justify_items": null,
       "left": null,
       "margin": null,
       "max_height": null,
       "max_width": null,
       "min_height": null,
       "min_width": null,
       "object_fit": null,
       "object_position": null,
       "order": null,
       "overflow": null,
       "overflow_x": null,
       "overflow_y": null,
       "padding": null,
       "right": null,
       "top": null,
       "visibility": null,
       "width": null
      }
     },
     "661dfc64e5694bebaa570cb8cc5e9047": {
      "model_module": "@jupyter-widgets/controls",
      "model_module_version": "1.5.0",
      "model_name": "HTMLModel",
      "state": {
       "_dom_classes": [],
       "_model_module": "@jupyter-widgets/controls",
       "_model_module_version": "1.5.0",
       "_model_name": "HTMLModel",
       "_view_count": null,
       "_view_module": "@jupyter-widgets/controls",
       "_view_module_version": "1.5.0",
       "_view_name": "HTMLView",
       "description": "",
       "description_tooltip": null,
       "layout": "IPY_MODEL_80b673f2907943dcb0204bd68a005a94",
       "placeholder": "​",
       "style": "IPY_MODEL_cbd509c899c542eca6b2cb871d82433f",
       "value": "Downloading: 100%"
      }
     },
     "70b287efebcb49209dfbf98e19d89460": {
      "model_module": "@jupyter-widgets/controls",
      "model_module_version": "1.5.0",
      "model_name": "FloatProgressModel",
      "state": {
       "_dom_classes": [],
       "_model_module": "@jupyter-widgets/controls",
       "_model_module_version": "1.5.0",
       "_model_name": "FloatProgressModel",
       "_view_count": null,
       "_view_module": "@jupyter-widgets/controls",
       "_view_module_version": "1.5.0",
       "_view_name": "ProgressView",
       "bar_style": "success",
       "description": "",
       "description_tooltip": null,
       "layout": "IPY_MODEL_328937d1ca5e4639a16c821907e9a791",
       "max": 443.0,
       "min": 0.0,
       "orientation": "horizontal",
       "style": "IPY_MODEL_867cfad1556e433aa1f4c2a56ba90e31",
       "value": 443.0
      }
     },
     "777348cb5109499fa443b4b3601cbb13": {
      "model_module": "@jupyter-widgets/base",
      "model_module_version": "1.2.0",
      "model_name": "LayoutModel",
      "state": {
       "_model_module": "@jupyter-widgets/base",
       "_model_module_version": "1.2.0",
       "_model_name": "LayoutModel",
       "_view_count": null,
       "_view_module": "@jupyter-widgets/base",
       "_view_module_version": "1.2.0",
       "_view_name": "LayoutView",
       "align_content": null,
       "align_items": null,
       "align_self": null,
       "border": null,
       "bottom": null,
       "display": null,
       "flex": null,
       "flex_flow": null,
       "grid_area": null,
       "grid_auto_columns": null,
       "grid_auto_flow": null,
       "grid_auto_rows": null,
       "grid_column": null,
       "grid_gap": null,
       "grid_row": null,
       "grid_template_areas": null,
       "grid_template_columns": null,
       "grid_template_rows": null,
       "height": null,
       "justify_content": null,
       "justify_items": null,
       "left": null,
       "margin": null,
       "max_height": null,
       "max_width": null,
       "min_height": null,
       "min_width": null,
       "object_fit": null,
       "object_position": null,
       "order": null,
       "overflow": null,
       "overflow_x": null,
       "overflow_y": null,
       "padding": null,
       "right": null,
       "top": null,
       "visibility": null,
       "width": null
      }
     },
     "7e6ff393cecc4ff88663a180d6b83319": {
      "model_module": "@jupyter-widgets/controls",
      "model_module_version": "1.5.0",
      "model_name": "HTMLModel",
      "state": {
       "_dom_classes": [],
       "_model_module": "@jupyter-widgets/controls",
       "_model_module_version": "1.5.0",
       "_model_name": "HTMLModel",
       "_view_count": null,
       "_view_module": "@jupyter-widgets/controls",
       "_view_module_version": "1.5.0",
       "_view_name": "HTMLView",
       "description": "",
       "description_tooltip": null,
       "layout": "IPY_MODEL_33bacf9030804bfc93a4342242a4f226",
       "placeholder": "​",
       "style": "IPY_MODEL_29f4e81736074f8e8c6830671c8a2a55",
       "value": " 1.34G/1.34G [00:40&lt;00:00, 33.4MB/s]"
      }
     },
     "80b673f2907943dcb0204bd68a005a94": {
      "model_module": "@jupyter-widgets/base",
      "model_module_version": "1.2.0",
      "model_name": "LayoutModel",
      "state": {
       "_model_module": "@jupyter-widgets/base",
       "_model_module_version": "1.2.0",
       "_model_name": "LayoutModel",
       "_view_count": null,
       "_view_module": "@jupyter-widgets/base",
       "_view_module_version": "1.2.0",
       "_view_name": "LayoutView",
       "align_content": null,
       "align_items": null,
       "align_self": null,
       "border": null,
       "bottom": null,
       "display": null,
       "flex": null,
       "flex_flow": null,
       "grid_area": null,
       "grid_auto_columns": null,
       "grid_auto_flow": null,
       "grid_auto_rows": null,
       "grid_column": null,
       "grid_gap": null,
       "grid_row": null,
       "grid_template_areas": null,
       "grid_template_columns": null,
       "grid_template_rows": null,
       "height": null,
       "justify_content": null,
       "justify_items": null,
       "left": null,
       "margin": null,
       "max_height": null,
       "max_width": null,
       "min_height": null,
       "min_width": null,
       "object_fit": null,
       "object_position": null,
       "order": null,
       "overflow": null,
       "overflow_x": null,
       "overflow_y": null,
       "padding": null,
       "right": null,
       "top": null,
       "visibility": null,
       "width": null
      }
     },
     "80c4649084fa471b8d4d409b851474e0": {
      "model_module": "@jupyter-widgets/base",
      "model_module_version": "1.2.0",
      "model_name": "LayoutModel",
      "state": {
       "_model_module": "@jupyter-widgets/base",
       "_model_module_version": "1.2.0",
       "_model_name": "LayoutModel",
       "_view_count": null,
       "_view_module": "@jupyter-widgets/base",
       "_view_module_version": "1.2.0",
       "_view_name": "LayoutView",
       "align_content": null,
       "align_items": null,
       "align_self": null,
       "border": null,
       "bottom": null,
       "display": null,
       "flex": null,
       "flex_flow": null,
       "grid_area": null,
       "grid_auto_columns": null,
       "grid_auto_flow": null,
       "grid_auto_rows": null,
       "grid_column": null,
       "grid_gap": null,
       "grid_row": null,
       "grid_template_areas": null,
       "grid_template_columns": null,
       "grid_template_rows": null,
       "height": null,
       "justify_content": null,
       "justify_items": null,
       "left": null,
       "margin": null,
       "max_height": null,
       "max_width": null,
       "min_height": null,
       "min_width": null,
       "object_fit": null,
       "object_position": null,
       "order": null,
       "overflow": null,
       "overflow_x": null,
       "overflow_y": null,
       "padding": null,
       "right": null,
       "top": null,
       "visibility": null,
       "width": null
      }
     },
     "867cfad1556e433aa1f4c2a56ba90e31": {
      "model_module": "@jupyter-widgets/controls",
      "model_module_version": "1.5.0",
      "model_name": "ProgressStyleModel",
      "state": {
       "_model_module": "@jupyter-widgets/controls",
       "_model_module_version": "1.5.0",
       "_model_name": "ProgressStyleModel",
       "_view_count": null,
       "_view_module": "@jupyter-widgets/base",
       "_view_module_version": "1.2.0",
       "_view_name": "StyleView",
       "bar_color": null,
       "description_width": ""
      }
     },
     "8c9bab496fa7400f8949232b4597b008": {
      "model_module": "@jupyter-widgets/base",
      "model_module_version": "1.2.0",
      "model_name": "LayoutModel",
      "state": {
       "_model_module": "@jupyter-widgets/base",
       "_model_module_version": "1.2.0",
       "_model_name": "LayoutModel",
       "_view_count": null,
       "_view_module": "@jupyter-widgets/base",
       "_view_module_version": "1.2.0",
       "_view_name": "LayoutView",
       "align_content": null,
       "align_items": null,
       "align_self": null,
       "border": null,
       "bottom": null,
       "display": null,
       "flex": null,
       "flex_flow": null,
       "grid_area": null,
       "grid_auto_columns": null,
       "grid_auto_flow": null,
       "grid_auto_rows": null,
       "grid_column": null,
       "grid_gap": null,
       "grid_row": null,
       "grid_template_areas": null,
       "grid_template_columns": null,
       "grid_template_rows": null,
       "height": null,
       "justify_content": null,
       "justify_items": null,
       "left": null,
       "margin": null,
       "max_height": null,
       "max_width": null,
       "min_height": null,
       "min_width": null,
       "object_fit": null,
       "object_position": null,
       "order": null,
       "overflow": null,
       "overflow_x": null,
       "overflow_y": null,
       "padding": null,
       "right": null,
       "top": null,
       "visibility": null,
       "width": null
      }
     },
     "8d7e9e2da2494976a28111812b19bfb2": {
      "model_module": "@jupyter-widgets/controls",
      "model_module_version": "1.5.0",
      "model_name": "HBoxModel",
      "state": {
       "_dom_classes": [],
       "_model_module": "@jupyter-widgets/controls",
       "_model_module_version": "1.5.0",
       "_model_name": "HBoxModel",
       "_view_count": null,
       "_view_module": "@jupyter-widgets/controls",
       "_view_module_version": "1.5.0",
       "_view_name": "HBoxView",
       "box_style": "",
       "children": [
        "IPY_MODEL_4a164ad72fd448b2b3ec2b747c48c75b",
        "IPY_MODEL_70b287efebcb49209dfbf98e19d89460",
        "IPY_MODEL_0937f738da394507bf6ea0b19d4b2b9d"
       ],
       "layout": "IPY_MODEL_06abbc8072fa4500a10ba95c91570684"
      }
     },
     "9473231d514643cebbbad6f72d9c3095": {
      "model_module": "@jupyter-widgets/controls",
      "model_module_version": "1.5.0",
      "model_name": "DescriptionStyleModel",
      "state": {
       "_model_module": "@jupyter-widgets/controls",
       "_model_module_version": "1.5.0",
       "_model_name": "DescriptionStyleModel",
       "_view_count": null,
       "_view_module": "@jupyter-widgets/base",
       "_view_module_version": "1.2.0",
       "_view_name": "StyleView",
       "description_width": ""
      }
     },
     "af375d230eae42b7a128e815632f6e3e": {
      "model_module": "@jupyter-widgets/base",
      "model_module_version": "1.2.0",
      "model_name": "LayoutModel",
      "state": {
       "_model_module": "@jupyter-widgets/base",
       "_model_module_version": "1.2.0",
       "_model_name": "LayoutModel",
       "_view_count": null,
       "_view_module": "@jupyter-widgets/base",
       "_view_module_version": "1.2.0",
       "_view_name": "LayoutView",
       "align_content": null,
       "align_items": null,
       "align_self": null,
       "border": null,
       "bottom": null,
       "display": null,
       "flex": null,
       "flex_flow": null,
       "grid_area": null,
       "grid_auto_columns": null,
       "grid_auto_flow": null,
       "grid_auto_rows": null,
       "grid_column": null,
       "grid_gap": null,
       "grid_row": null,
       "grid_template_areas": null,
       "grid_template_columns": null,
       "grid_template_rows": null,
       "height": null,
       "justify_content": null,
       "justify_items": null,
       "left": null,
       "margin": null,
       "max_height": null,
       "max_width": null,
       "min_height": null,
       "min_width": null,
       "object_fit": null,
       "object_position": null,
       "order": null,
       "overflow": null,
       "overflow_x": null,
       "overflow_y": null,
       "padding": null,
       "right": null,
       "top": null,
       "visibility": null,
       "width": null
      }
     },
     "c821404af9504e1e92b551f0a211dc4a": {
      "model_module": "@jupyter-widgets/controls",
      "model_module_version": "1.5.0",
      "model_name": "HBoxModel",
      "state": {
       "_dom_classes": [],
       "_model_module": "@jupyter-widgets/controls",
       "_model_module_version": "1.5.0",
       "_model_name": "HBoxModel",
       "_view_count": null,
       "_view_module": "@jupyter-widgets/controls",
       "_view_module_version": "1.5.0",
       "_view_name": "HBoxView",
       "box_style": "",
       "children": [
        "IPY_MODEL_661dfc64e5694bebaa570cb8cc5e9047",
        "IPY_MODEL_03e0b50077604239ab09b7ab0cbf01d0",
        "IPY_MODEL_7e6ff393cecc4ff88663a180d6b83319"
       ],
       "layout": "IPY_MODEL_0161ae6f254d4f78adf0020b3aca05ee"
      }
     },
     "cbd509c899c542eca6b2cb871d82433f": {
      "model_module": "@jupyter-widgets/controls",
      "model_module_version": "1.5.0",
      "model_name": "DescriptionStyleModel",
      "state": {
       "_model_module": "@jupyter-widgets/controls",
       "_model_module_version": "1.5.0",
       "_model_name": "DescriptionStyleModel",
       "_view_count": null,
       "_view_module": "@jupyter-widgets/base",
       "_view_module_version": "1.2.0",
       "_view_name": "StyleView",
       "description_width": ""
      }
     },
     "d6b62d96e4ff464497b37280d8defe95": {
      "model_module": "@jupyter-widgets/controls",
      "model_module_version": "1.5.0",
      "model_name": "DescriptionStyleModel",
      "state": {
       "_model_module": "@jupyter-widgets/controls",
       "_model_module_version": "1.5.0",
       "_model_name": "DescriptionStyleModel",
       "_view_count": null,
       "_view_module": "@jupyter-widgets/base",
       "_view_module_version": "1.2.0",
       "_view_name": "StyleView",
       "description_width": ""
      }
     },
     "d731301b5c344d4fb41ca8dce835c992": {
      "model_module": "@jupyter-widgets/controls",
      "model_module_version": "1.5.0",
      "model_name": "HBoxModel",
      "state": {
       "_dom_classes": [],
       "_model_module": "@jupyter-widgets/controls",
       "_model_module_version": "1.5.0",
       "_model_name": "HBoxModel",
       "_view_count": null,
       "_view_module": "@jupyter-widgets/controls",
       "_view_module_version": "1.5.0",
       "_view_name": "HBoxView",
       "box_style": "",
       "children": [
        "IPY_MODEL_f636515e70db4bc7aaed435975fe29e7",
        "IPY_MODEL_0c02bd95a4de460ab091eb4ee971cf5f",
        "IPY_MODEL_e3d26523b21d4d7a80ee43b94f7212e3"
       ],
       "layout": "IPY_MODEL_80c4649084fa471b8d4d409b851474e0"
      }
     },
     "e3d26523b21d4d7a80ee43b94f7212e3": {
      "model_module": "@jupyter-widgets/controls",
      "model_module_version": "1.5.0",
      "model_name": "HTMLModel",
      "state": {
       "_dom_classes": [],
       "_model_module": "@jupyter-widgets/controls",
       "_model_module_version": "1.5.0",
       "_model_name": "HTMLModel",
       "_view_count": null,
       "_view_module": "@jupyter-widgets/controls",
       "_view_module_version": "1.5.0",
       "_view_name": "HTMLView",
       "description": "",
       "description_tooltip": null,
       "layout": "IPY_MODEL_481133cf38424e82976e1e51093becdf",
       "placeholder": "​",
       "style": "IPY_MODEL_eb27adf6df144feea9a11869ae5cbb43",
       "value": " 232k/232k [00:00&lt;00:00, 3.18MB/s]"
      }
     },
     "e9713cdf2a07462191b4e6bf89f6fcd2": {
      "model_module": "@jupyter-widgets/base",
      "model_module_version": "1.2.0",
      "model_name": "LayoutModel",
      "state": {
       "_model_module": "@jupyter-widgets/base",
       "_model_module_version": "1.2.0",
       "_model_name": "LayoutModel",
       "_view_count": null,
       "_view_module": "@jupyter-widgets/base",
       "_view_module_version": "1.2.0",
       "_view_name": "LayoutView",
       "align_content": null,
       "align_items": null,
       "align_self": null,
       "border": null,
       "bottom": null,
       "display": null,
       "flex": null,
       "flex_flow": null,
       "grid_area": null,
       "grid_auto_columns": null,
       "grid_auto_flow": null,
       "grid_auto_rows": null,
       "grid_column": null,
       "grid_gap": null,
       "grid_row": null,
       "grid_template_areas": null,
       "grid_template_columns": null,
       "grid_template_rows": null,
       "height": null,
       "justify_content": null,
       "justify_items": null,
       "left": null,
       "margin": null,
       "max_height": null,
       "max_width": null,
       "min_height": null,
       "min_width": null,
       "object_fit": null,
       "object_position": null,
       "order": null,
       "overflow": null,
       "overflow_x": null,
       "overflow_y": null,
       "padding": null,
       "right": null,
       "top": null,
       "visibility": null,
       "width": null
      }
     },
     "ead342c373564a66b2fb4865feebe1ed": {
      "model_module": "@jupyter-widgets/controls",
      "model_module_version": "1.5.0",
      "model_name": "ProgressStyleModel",
      "state": {
       "_model_module": "@jupyter-widgets/controls",
       "_model_module_version": "1.5.0",
       "_model_name": "ProgressStyleModel",
       "_view_count": null,
       "_view_module": "@jupyter-widgets/base",
       "_view_module_version": "1.2.0",
       "_view_name": "StyleView",
       "bar_color": null,
       "description_width": ""
      }
     },
     "eb27adf6df144feea9a11869ae5cbb43": {
      "model_module": "@jupyter-widgets/controls",
      "model_module_version": "1.5.0",
      "model_name": "DescriptionStyleModel",
      "state": {
       "_model_module": "@jupyter-widgets/controls",
       "_model_module_version": "1.5.0",
       "_model_name": "DescriptionStyleModel",
       "_view_count": null,
       "_view_module": "@jupyter-widgets/base",
       "_view_module_version": "1.2.0",
       "_view_name": "StyleView",
       "description_width": ""
      }
     },
     "f636515e70db4bc7aaed435975fe29e7": {
      "model_module": "@jupyter-widgets/controls",
      "model_module_version": "1.5.0",
      "model_name": "HTMLModel",
      "state": {
       "_dom_classes": [],
       "_model_module": "@jupyter-widgets/controls",
       "_model_module_version": "1.5.0",
       "_model_name": "HTMLModel",
       "_view_count": null,
       "_view_module": "@jupyter-widgets/controls",
       "_view_module_version": "1.5.0",
       "_view_name": "HTMLView",
       "description": "",
       "description_tooltip": null,
       "layout": "IPY_MODEL_502f5eb25471416a810f032bd47da434",
       "placeholder": "​",
       "style": "IPY_MODEL_d6b62d96e4ff464497b37280d8defe95",
       "value": "Downloading: 100%"
      }
     },
     "fcab3d53d1e049d597bd8733ad0acd25": {
      "model_module": "@jupyter-widgets/controls",
      "model_module_version": "1.5.0",
      "model_name": "ProgressStyleModel",
      "state": {
       "_model_module": "@jupyter-widgets/controls",
       "_model_module_version": "1.5.0",
       "_model_name": "ProgressStyleModel",
       "_view_count": null,
       "_view_module": "@jupyter-widgets/base",
       "_view_module_version": "1.2.0",
       "_view_name": "StyleView",
       "bar_color": null,
       "description_width": ""
      }
     }
    },
    "version_major": 2,
    "version_minor": 0
   }
  }
 },
 "nbformat": 4,
 "nbformat_minor": 4
}
